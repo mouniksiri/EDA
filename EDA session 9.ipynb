{
 "cells": [
  {
   "cell_type": "markdown",
   "id": "e421628f-ffa7-4603-b7da-782966b12452",
   "metadata": {},
   "source": [
    "**import the packages**"
   ]
  },
  {
   "cell_type": "code",
   "execution_count": 1,
   "id": "10c5e82d-1643-45b8-a688-1afe091855d6",
   "metadata": {},
   "outputs": [],
   "source": [
    "import pandas as pd\n",
    "import numpy as np\n",
    "import matplotlib.pyplot as plt\n",
    "import seaborn as sns"
   ]
  },
  {
   "cell_type": "markdown",
   "id": "2c28a617-4cc7-477e-a77d-8364143f8444",
   "metadata": {},
   "source": [
    "**read the data**"
   ]
  },
  {
   "cell_type": "code",
   "execution_count": 2,
   "id": "4966b900-4e15-4b58-a2cf-d0dccd753557",
   "metadata": {},
   "outputs": [
    {
     "data": {
      "text/html": [
       "<div>\n",
       "<style scoped>\n",
       "    .dataframe tbody tr th:only-of-type {\n",
       "        vertical-align: middle;\n",
       "    }\n",
       "\n",
       "    .dataframe tbody tr th {\n",
       "        vertical-align: top;\n",
       "    }\n",
       "\n",
       "    .dataframe thead th {\n",
       "        text-align: right;\n",
       "    }\n",
       "</style>\n",
       "<table border=\"1\" class=\"dataframe\">\n",
       "  <thead>\n",
       "    <tr style=\"text-align: right;\">\n",
       "      <th></th>\n",
       "      <th>case_id</th>\n",
       "      <th>continent</th>\n",
       "      <th>education_of_employee</th>\n",
       "      <th>has_job_experience</th>\n",
       "      <th>requires_job_training</th>\n",
       "      <th>no_of_employees</th>\n",
       "      <th>yr_of_estab</th>\n",
       "      <th>region_of_employment</th>\n",
       "      <th>prevailing_wage</th>\n",
       "      <th>unit_of_wage</th>\n",
       "      <th>full_time_position</th>\n",
       "      <th>case_status</th>\n",
       "    </tr>\n",
       "  </thead>\n",
       "  <tbody>\n",
       "    <tr>\n",
       "      <th>0</th>\n",
       "      <td>EZYV01</td>\n",
       "      <td>Asia</td>\n",
       "      <td>High School</td>\n",
       "      <td>N</td>\n",
       "      <td>N</td>\n",
       "      <td>14513</td>\n",
       "      <td>2007</td>\n",
       "      <td>West</td>\n",
       "      <td>592.2029</td>\n",
       "      <td>Hour</td>\n",
       "      <td>Y</td>\n",
       "      <td>Denied</td>\n",
       "    </tr>\n",
       "    <tr>\n",
       "      <th>1</th>\n",
       "      <td>EZYV02</td>\n",
       "      <td>Asia</td>\n",
       "      <td>Master's</td>\n",
       "      <td>Y</td>\n",
       "      <td>N</td>\n",
       "      <td>2412</td>\n",
       "      <td>2002</td>\n",
       "      <td>Northeast</td>\n",
       "      <td>83425.6500</td>\n",
       "      <td>Year</td>\n",
       "      <td>Y</td>\n",
       "      <td>Certified</td>\n",
       "    </tr>\n",
       "  </tbody>\n",
       "</table>\n",
       "</div>"
      ],
      "text/plain": [
       "  case_id continent education_of_employee has_job_experience  \\\n",
       "0  EZYV01      Asia           High School                  N   \n",
       "1  EZYV02      Asia              Master's                  Y   \n",
       "\n",
       "  requires_job_training  no_of_employees  yr_of_estab region_of_employment  \\\n",
       "0                     N            14513         2007                 West   \n",
       "1                     N             2412         2002            Northeast   \n",
       "\n",
       "   prevailing_wage unit_of_wage full_time_position case_status  \n",
       "0         592.2029         Hour                  Y      Denied  \n",
       "1       83425.6500         Year                  Y   Certified  "
      ]
     },
     "execution_count": 2,
     "metadata": {},
     "output_type": "execute_result"
    }
   ],
   "source": [
    "visa_df=pd.read_csv(r\"C:\\Users\\SIRI\\OneDrive\\nareshit\\EDA\\Visadataset - Visadataset.csv\")\n",
    "visa_df.head(2)"
   ]
  },
  {
   "cell_type": "markdown",
   "id": "6c2cd6f9-a67a-434d-91c8-90dd7483880d",
   "metadata": {},
   "source": [
    "**Standardization**"
   ]
  },
  {
   "cell_type": "markdown",
   "id": "df3ad9d0-1a84-4607-a75a-5f1725a57ee1",
   "metadata": {},
   "source": [
    "- standardization is a techinquie scale all the data under one scale\n",
    "\n",
    "- Different columns has different values aslo different units\n",
    "\n",
    "- some columns values has bigger values, some column values has lesser values\n",
    "\n",
    "- so it is important to keep all the values under one scale\n",
    "\n",
    "- we have two methods are there\n",
    "\n",
    "   - standardaization \n",
    "     - normalization\n",
    "\n",
    " - standarization\n",
    "     - Z-score\n",
    "    -  Z scorevaries from-3 to3\n",
    "\n",
    "        <img style=\"display: block;-webkit-user-select: none;margin: auto;background-color: hsl(0, 0%, 90%);transition: background-color 300ms;\" src=\"https://fredclavel.org/wp-content/uploads/2019/03/z-score-population.png\">\n",
    "\n",
    "        "
   ]
  },
  {
   "cell_type": "markdown",
   "id": "900fd439-bd85-4b96-a18d-219d4540dfcc",
   "metadata": {},
   "source": [
    " **Normalization**\n",
    " . min max scalar\n",
    "  . values ranges from 0 to 1\n",
    "\n",
    "  <img id=\"dimg_29\" src=\"data:image/png;base64,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\" class=\"YQ4gaf zr758c\" height=\"109\" style=\"object-position:0% 50%\" width=\"461\" alt=\"Min–max normalization - Hands-On ...\" data-csiid=\"24\" data-atf=\"4\">"
   ]
  },
  {
   "cell_type": "markdown",
   "id": "8df4b626-8aa6-4987-a186-64aa00c8c234",
   "metadata": {},
   "source": [
    "**Task**\n",
    "- step-1: take prevailing wage column:visa_df['prevailing_wage']\n",
    "- step-2: calculate the mean value prevailing wage:mean=visa_df['prevailing_wage'].mean\n",
    "- step-3:calculate the standard deviation of prevailing wage:std=visa_df['prevailing_wage'].std\n",
    "- step-4:calculate the Nr:step-1 step-2:Nr=visa_df['prevailing_wage']-mean\n",
    "- step-5:divide the step4/step3"
   ]
  },
  {
   "cell_type": "code",
   "execution_count": 3,
   "id": "c961f2eb-d005-4557-acd1-97b615a92432",
   "metadata": {},
   "outputs": [
    {
     "data": {
      "text/plain": [
       "0           592.2029\n",
       "1         83425.6500\n",
       "2        122996.8600\n",
       "3         83434.0300\n",
       "4        149907.3900\n",
       "            ...     \n",
       "25475     77092.5700\n",
       "25476    279174.7900\n",
       "25477    146298.8500\n",
       "25478     86154.7700\n",
       "25479     70876.9100\n",
       "Name: prevailing_wage, Length: 25480, dtype: float64"
      ]
     },
     "execution_count": 3,
     "metadata": {},
     "output_type": "execute_result"
    }
   ],
   "source": [
    "visa_df['prevailing_wage']"
   ]
  },
  {
   "cell_type": "code",
   "execution_count": 8,
   "id": "08edafd1-37a6-4b35-91d7-eb9395e90197",
   "metadata": {},
   "outputs": [
    {
     "data": {
      "text/plain": [
       "<bound method Series.mean of 0           592.2029\n",
       "1         83425.6500\n",
       "2        122996.8600\n",
       "3         83434.0300\n",
       "4        149907.3900\n",
       "            ...     \n",
       "25475     77092.5700\n",
       "25476    279174.7900\n",
       "25477    146298.8500\n",
       "25478     86154.7700\n",
       "25479     70876.9100\n",
       "Name: prevailing_wage, Length: 25480, dtype: float64>"
      ]
     },
     "execution_count": 8,
     "metadata": {},
     "output_type": "execute_result"
    }
   ],
   "source": [
    "visa_df['prevailing_wage'].mean"
   ]
  },
  {
   "cell_type": "code",
   "execution_count": 11,
   "id": "8629b0eb-2dc2-48dd-82ba-00093d6ad803",
   "metadata": {},
   "outputs": [
    {
     "data": {
      "text/plain": [
       "<bound method Series.std of 0           592.2029\n",
       "1         83425.6500\n",
       "2        122996.8600\n",
       "3         83434.0300\n",
       "4        149907.3900\n",
       "            ...     \n",
       "25475     77092.5700\n",
       "25476    279174.7900\n",
       "25477    146298.8500\n",
       "25478     86154.7700\n",
       "25479     70876.9100\n",
       "Name: prevailing_wage, Length: 25480, dtype: float64>"
      ]
     },
     "execution_count": 11,
     "metadata": {},
     "output_type": "execute_result"
    }
   ],
   "source": [
    "visa_df['prevailing_wage'].std"
   ]
  },
  {
   "cell_type": "code",
   "execution_count": 12,
   "id": "65c72871-aeb1-4abb-a96e-7bca0b0bbd7a",
   "metadata": {},
   "outputs": [
    {
     "data": {
      "text/plain": [
       "0        -73863.611692\n",
       "1          8969.835408\n",
       "2         48541.045408\n",
       "3          8978.215408\n",
       "4         75451.575408\n",
       "             ...      \n",
       "25475      2636.755408\n",
       "25476    204718.975408\n",
       "25477     71843.035408\n",
       "25478     11698.955408\n",
       "25479     -3578.904592\n",
       "Name: prevailing_wage, Length: 25480, dtype: float64"
      ]
     },
     "execution_count": 12,
     "metadata": {},
     "output_type": "execute_result"
    }
   ],
   "source": [
    "visa_df['prevailing_wage']-mean"
   ]
  },
  {
   "cell_type": "code",
   "execution_count": 13,
   "id": "80b6ba50-e609-40a4-a6a9-1b1766a63dcd",
   "metadata": {},
   "outputs": [
    {
     "data": {
      "text/html": [
       "<div>\n",
       "<style scoped>\n",
       "    .dataframe tbody tr th:only-of-type {\n",
       "        vertical-align: middle;\n",
       "    }\n",
       "\n",
       "    .dataframe tbody tr th {\n",
       "        vertical-align: top;\n",
       "    }\n",
       "\n",
       "    .dataframe thead th {\n",
       "        text-align: right;\n",
       "    }\n",
       "</style>\n",
       "<table border=\"1\" class=\"dataframe\">\n",
       "  <thead>\n",
       "    <tr style=\"text-align: right;\">\n",
       "      <th></th>\n",
       "      <th>case_id</th>\n",
       "      <th>continent</th>\n",
       "      <th>education_of_employee</th>\n",
       "      <th>has_job_experience</th>\n",
       "      <th>requires_job_training</th>\n",
       "      <th>no_of_employees</th>\n",
       "      <th>yr_of_estab</th>\n",
       "      <th>region_of_employment</th>\n",
       "      <th>prevailing_wage</th>\n",
       "      <th>unit_of_wage</th>\n",
       "      <th>full_time_position</th>\n",
       "      <th>case_status</th>\n",
       "      <th>prevailing_wage_z</th>\n",
       "    </tr>\n",
       "  </thead>\n",
       "  <tbody>\n",
       "    <tr>\n",
       "      <th>0</th>\n",
       "      <td>EZYV01</td>\n",
       "      <td>Asia</td>\n",
       "      <td>High School</td>\n",
       "      <td>N</td>\n",
       "      <td>N</td>\n",
       "      <td>14513</td>\n",
       "      <td>2007</td>\n",
       "      <td>West</td>\n",
       "      <td>592.2029</td>\n",
       "      <td>Hour</td>\n",
       "      <td>Y</td>\n",
       "      <td>Denied</td>\n",
       "      <td>-1.398510</td>\n",
       "    </tr>\n",
       "    <tr>\n",
       "      <th>1</th>\n",
       "      <td>EZYV02</td>\n",
       "      <td>Asia</td>\n",
       "      <td>Master's</td>\n",
       "      <td>Y</td>\n",
       "      <td>N</td>\n",
       "      <td>2412</td>\n",
       "      <td>2002</td>\n",
       "      <td>Northeast</td>\n",
       "      <td>83425.6500</td>\n",
       "      <td>Year</td>\n",
       "      <td>Y</td>\n",
       "      <td>Certified</td>\n",
       "      <td>0.169832</td>\n",
       "    </tr>\n",
       "    <tr>\n",
       "      <th>2</th>\n",
       "      <td>EZYV03</td>\n",
       "      <td>Asia</td>\n",
       "      <td>Bachelor's</td>\n",
       "      <td>N</td>\n",
       "      <td>Y</td>\n",
       "      <td>44444</td>\n",
       "      <td>2008</td>\n",
       "      <td>West</td>\n",
       "      <td>122996.8600</td>\n",
       "      <td>Year</td>\n",
       "      <td>Y</td>\n",
       "      <td>Denied</td>\n",
       "      <td>0.919060</td>\n",
       "    </tr>\n",
       "    <tr>\n",
       "      <th>3</th>\n",
       "      <td>EZYV04</td>\n",
       "      <td>Asia</td>\n",
       "      <td>Bachelor's</td>\n",
       "      <td>N</td>\n",
       "      <td>N</td>\n",
       "      <td>98</td>\n",
       "      <td>1897</td>\n",
       "      <td>West</td>\n",
       "      <td>83434.0300</td>\n",
       "      <td>Year</td>\n",
       "      <td>Y</td>\n",
       "      <td>Denied</td>\n",
       "      <td>0.169991</td>\n",
       "    </tr>\n",
       "    <tr>\n",
       "      <th>4</th>\n",
       "      <td>EZYV05</td>\n",
       "      <td>Africa</td>\n",
       "      <td>Master's</td>\n",
       "      <td>Y</td>\n",
       "      <td>N</td>\n",
       "      <td>1082</td>\n",
       "      <td>2005</td>\n",
       "      <td>South</td>\n",
       "      <td>149907.3900</td>\n",
       "      <td>Year</td>\n",
       "      <td>Y</td>\n",
       "      <td>Certified</td>\n",
       "      <td>1.428576</td>\n",
       "    </tr>\n",
       "    <tr>\n",
       "      <th>...</th>\n",
       "      <td>...</td>\n",
       "      <td>...</td>\n",
       "      <td>...</td>\n",
       "      <td>...</td>\n",
       "      <td>...</td>\n",
       "      <td>...</td>\n",
       "      <td>...</td>\n",
       "      <td>...</td>\n",
       "      <td>...</td>\n",
       "      <td>...</td>\n",
       "      <td>...</td>\n",
       "      <td>...</td>\n",
       "      <td>...</td>\n",
       "    </tr>\n",
       "    <tr>\n",
       "      <th>25475</th>\n",
       "      <td>EZYV25476</td>\n",
       "      <td>Asia</td>\n",
       "      <td>Bachelor's</td>\n",
       "      <td>Y</td>\n",
       "      <td>Y</td>\n",
       "      <td>2601</td>\n",
       "      <td>2008</td>\n",
       "      <td>South</td>\n",
       "      <td>77092.5700</td>\n",
       "      <td>Year</td>\n",
       "      <td>Y</td>\n",
       "      <td>Certified</td>\n",
       "      <td>0.049923</td>\n",
       "    </tr>\n",
       "    <tr>\n",
       "      <th>25476</th>\n",
       "      <td>EZYV25477</td>\n",
       "      <td>Asia</td>\n",
       "      <td>High School</td>\n",
       "      <td>Y</td>\n",
       "      <td>N</td>\n",
       "      <td>3274</td>\n",
       "      <td>2006</td>\n",
       "      <td>Northeast</td>\n",
       "      <td>279174.7900</td>\n",
       "      <td>Year</td>\n",
       "      <td>Y</td>\n",
       "      <td>Certified</td>\n",
       "      <td>3.876083</td>\n",
       "    </tr>\n",
       "    <tr>\n",
       "      <th>25477</th>\n",
       "      <td>EZYV25478</td>\n",
       "      <td>Asia</td>\n",
       "      <td>Master's</td>\n",
       "      <td>Y</td>\n",
       "      <td>N</td>\n",
       "      <td>1121</td>\n",
       "      <td>1910</td>\n",
       "      <td>South</td>\n",
       "      <td>146298.8500</td>\n",
       "      <td>Year</td>\n",
       "      <td>N</td>\n",
       "      <td>Certified</td>\n",
       "      <td>1.360253</td>\n",
       "    </tr>\n",
       "    <tr>\n",
       "      <th>25478</th>\n",
       "      <td>EZYV25479</td>\n",
       "      <td>Asia</td>\n",
       "      <td>Master's</td>\n",
       "      <td>Y</td>\n",
       "      <td>Y</td>\n",
       "      <td>1918</td>\n",
       "      <td>1887</td>\n",
       "      <td>West</td>\n",
       "      <td>86154.7700</td>\n",
       "      <td>Year</td>\n",
       "      <td>Y</td>\n",
       "      <td>Certified</td>\n",
       "      <td>0.221504</td>\n",
       "    </tr>\n",
       "    <tr>\n",
       "      <th>25479</th>\n",
       "      <td>EZYV25480</td>\n",
       "      <td>Asia</td>\n",
       "      <td>Bachelor's</td>\n",
       "      <td>Y</td>\n",
       "      <td>N</td>\n",
       "      <td>3195</td>\n",
       "      <td>1960</td>\n",
       "      <td>Midwest</td>\n",
       "      <td>70876.9100</td>\n",
       "      <td>Year</td>\n",
       "      <td>Y</td>\n",
       "      <td>Certified</td>\n",
       "      <td>-0.067762</td>\n",
       "    </tr>\n",
       "  </tbody>\n",
       "</table>\n",
       "<p>25480 rows × 13 columns</p>\n",
       "</div>"
      ],
      "text/plain": [
       "         case_id continent education_of_employee has_job_experience  \\\n",
       "0         EZYV01      Asia           High School                  N   \n",
       "1         EZYV02      Asia              Master's                  Y   \n",
       "2         EZYV03      Asia            Bachelor's                  N   \n",
       "3         EZYV04      Asia            Bachelor's                  N   \n",
       "4         EZYV05    Africa              Master's                  Y   \n",
       "...          ...       ...                   ...                ...   \n",
       "25475  EZYV25476      Asia            Bachelor's                  Y   \n",
       "25476  EZYV25477      Asia           High School                  Y   \n",
       "25477  EZYV25478      Asia              Master's                  Y   \n",
       "25478  EZYV25479      Asia              Master's                  Y   \n",
       "25479  EZYV25480      Asia            Bachelor's                  Y   \n",
       "\n",
       "      requires_job_training  no_of_employees  yr_of_estab  \\\n",
       "0                         N            14513         2007   \n",
       "1                         N             2412         2002   \n",
       "2                         Y            44444         2008   \n",
       "3                         N               98         1897   \n",
       "4                         N             1082         2005   \n",
       "...                     ...              ...          ...   \n",
       "25475                     Y             2601         2008   \n",
       "25476                     N             3274         2006   \n",
       "25477                     N             1121         1910   \n",
       "25478                     Y             1918         1887   \n",
       "25479                     N             3195         1960   \n",
       "\n",
       "      region_of_employment  prevailing_wage unit_of_wage full_time_position  \\\n",
       "0                     West         592.2029         Hour                  Y   \n",
       "1                Northeast       83425.6500         Year                  Y   \n",
       "2                     West      122996.8600         Year                  Y   \n",
       "3                     West       83434.0300         Year                  Y   \n",
       "4                    South      149907.3900         Year                  Y   \n",
       "...                    ...              ...          ...                ...   \n",
       "25475                South       77092.5700         Year                  Y   \n",
       "25476            Northeast      279174.7900         Year                  Y   \n",
       "25477                South      146298.8500         Year                  N   \n",
       "25478                 West       86154.7700         Year                  Y   \n",
       "25479              Midwest       70876.9100         Year                  Y   \n",
       "\n",
       "      case_status  prevailing_wage_z  \n",
       "0          Denied          -1.398510  \n",
       "1       Certified           0.169832  \n",
       "2          Denied           0.919060  \n",
       "3          Denied           0.169991  \n",
       "4       Certified           1.428576  \n",
       "...           ...                ...  \n",
       "25475   Certified           0.049923  \n",
       "25476   Certified           3.876083  \n",
       "25477   Certified           1.360253  \n",
       "25478   Certified           0.221504  \n",
       "25479   Certified          -0.067762  \n",
       "\n",
       "[25480 rows x 13 columns]"
      ]
     },
     "execution_count": 13,
     "metadata": {},
     "output_type": "execute_result"
    }
   ],
   "source": [
    "mean=visa_df['prevailing_wage'].mean()\n",
    "std=visa_df['prevailing_wage'].std()\n",
    "Nr=visa_df['prevailing_wage']-mean\n",
    "visa_df['prevailing_wage_z']=Nr/std\n",
    "visa_df\n",
    "\n"
   ]
  },
  {
   "cell_type": "markdown",
   "id": "f8ad6fcc-aaf5-4e16-b572-10cce596c36d",
   "metadata": {},
   "source": [
    "**Task-2**\n",
    "\n",
    "- compare the two columns \n",
    "\n",
    "- Get the maximum value and minimum value of the indexes\n",
    "\n",
    "- the both indexes should match"
   ]
  },
  {
   "cell_type": "markdown",
   "id": "d594801e-4d3c-401c-9b42-38dfa246696d",
   "metadata": {},
   "source": [
    "**idxmax-idxmin**\n"
   ]
  },
  {
   "cell_type": "code",
   "execution_count": 15,
   "id": "ea7481a1-6caa-42f3-be41-bd6dfe006a14",
   "metadata": {},
   "outputs": [
    {
     "data": {
      "text/plain": [
       "((21077, 21077), (20575, 20575))"
      ]
     },
     "execution_count": 15,
     "metadata": {},
     "output_type": "execute_result"
    }
   ],
   "source": [
    "maxx=visa_df[\"prevailing_wage\"].idxmax(),visa_df[\"prevailing_wage_z\"].idxmax()\n",
    "minn=visa_df[\"prevailing_wage\"].idxmin(),visa_df[\"prevailing_wage_z\"].idxmin()\n",
    "maxx,minn"
   ]
  },
  {
   "cell_type": "code",
   "execution_count": 18,
   "id": "dddaade3-9955-49a1-b250-beb2ac8f99a3",
   "metadata": {},
   "outputs": [
    {
     "data": {
      "text/plain": [
       "((319210.27, 4.634101837909902), (2.1367, -1.4096818992891214))"
      ]
     },
     "execution_count": 18,
     "metadata": {},
     "output_type": "execute_result"
    }
   ],
   "source": [
    "max_val=visa_df[\"prevailing_wage\"].max(),visa_df[\"prevailing_wage_z\"].max()\n",
    "min_val=visa_df[\"prevailing_wage\"].min(),visa_df[\"prevailing_wage_z\"].min()\n",
    "max_val,min_val"
   ]
  },
  {
   "cell_type": "markdown",
   "id": "6dce4f0f-fdf1-4cd9-8340-eb4fb78d9109",
   "metadata": {},
   "source": [
    "**Normalization**\n",
    "\n",
    "- read the data again\n",
    "- step-1:take prevailing wage column:visa_df['prevailing_wage']\n",
    "- step-2:calculate the min value prevailing wage:max=visa_df['prevailing_wage'].min\n",
    "- step-3:calculate the min value prevailing wage:max=visa_df['prevailing_wage'].max\n",
    "- step-4: calculate the Nr:step-1-step-2:Nr=visa_df['prevailing_wage']-min\n",
    "- step-5:DR=step-3-step-2\n",
    "- step-6:divide the step4/step5"
   ]
  },
  {
   "cell_type": "code",
   "execution_count": 19,
   "id": "5f9f9cdc-8c15-4cbd-8537-9b675131ffbe",
   "metadata": {},
   "outputs": [
    {
     "data": {
      "text/plain": [
       "0           592.2029\n",
       "1         83425.6500\n",
       "2        122996.8600\n",
       "3         83434.0300\n",
       "4        149907.3900\n",
       "            ...     \n",
       "25475     77092.5700\n",
       "25476    279174.7900\n",
       "25477    146298.8500\n",
       "25478     86154.7700\n",
       "25479     70876.9100\n",
       "Name: prevailing_wage, Length: 25480, dtype: float64"
      ]
     },
     "execution_count": 19,
     "metadata": {},
     "output_type": "execute_result"
    }
   ],
   "source": [
    "visa_df['prevailing_wage']"
   ]
  },
  {
   "cell_type": "code",
   "execution_count": 20,
   "id": "00f26cc7-032f-49ee-bb21-267ad01127b3",
   "metadata": {},
   "outputs": [
    {
     "data": {
      "text/plain": [
       "<bound method Series.min of 0           592.2029\n",
       "1         83425.6500\n",
       "2        122996.8600\n",
       "3         83434.0300\n",
       "4        149907.3900\n",
       "            ...     \n",
       "25475     77092.5700\n",
       "25476    279174.7900\n",
       "25477    146298.8500\n",
       "25478     86154.7700\n",
       "25479     70876.9100\n",
       "Name: prevailing_wage, Length: 25480, dtype: float64>"
      ]
     },
     "execution_count": 20,
     "metadata": {},
     "output_type": "execute_result"
    }
   ],
   "source": [
    "visa_df['prevailing_wage'].min"
   ]
  },
  {
   "cell_type": "code",
   "execution_count": 21,
   "id": "f6a5952c-1f2c-4c08-bb00-7d11967a2a17",
   "metadata": {},
   "outputs": [
    {
     "data": {
      "text/plain": [
       "<bound method Series.max of 0           592.2029\n",
       "1         83425.6500\n",
       "2        122996.8600\n",
       "3         83434.0300\n",
       "4        149907.3900\n",
       "            ...     \n",
       "25475     77092.5700\n",
       "25476    279174.7900\n",
       "25477    146298.8500\n",
       "25478     86154.7700\n",
       "25479     70876.9100\n",
       "Name: prevailing_wage, Length: 25480, dtype: float64>"
      ]
     },
     "execution_count": 21,
     "metadata": {},
     "output_type": "execute_result"
    }
   ],
   "source": [
    "visa_df['prevailing_wage'].max"
   ]
  },
  {
   "cell_type": "code",
   "execution_count": 25,
   "id": "0b140205-474c-4ac5-b952-79a9c2ac131d",
   "metadata": {},
   "outputs": [
    {
     "data": {
      "text/html": [
       "<div>\n",
       "<style scoped>\n",
       "    .dataframe tbody tr th:only-of-type {\n",
       "        vertical-align: middle;\n",
       "    }\n",
       "\n",
       "    .dataframe tbody tr th {\n",
       "        vertical-align: top;\n",
       "    }\n",
       "\n",
       "    .dataframe thead th {\n",
       "        text-align: right;\n",
       "    }\n",
       "</style>\n",
       "<table border=\"1\" class=\"dataframe\">\n",
       "  <thead>\n",
       "    <tr style=\"text-align: right;\">\n",
       "      <th></th>\n",
       "      <th>prevailing_wage</th>\n",
       "      <th>prevailing_wage_min_max</th>\n",
       "    </tr>\n",
       "  </thead>\n",
       "  <tbody>\n",
       "    <tr>\n",
       "      <th>0</th>\n",
       "      <td>592.2029</td>\n",
       "      <td>-0.231396</td>\n",
       "    </tr>\n",
       "    <tr>\n",
       "      <th>1</th>\n",
       "      <td>83425.6500</td>\n",
       "      <td>0.028100</td>\n",
       "    </tr>\n",
       "    <tr>\n",
       "      <th>2</th>\n",
       "      <td>122996.8600</td>\n",
       "      <td>0.152067</td>\n",
       "    </tr>\n",
       "    <tr>\n",
       "      <th>3</th>\n",
       "      <td>83434.0300</td>\n",
       "      <td>0.028127</td>\n",
       "    </tr>\n",
       "    <tr>\n",
       "      <th>4</th>\n",
       "      <td>149907.3900</td>\n",
       "      <td>0.236371</td>\n",
       "    </tr>\n",
       "    <tr>\n",
       "      <th>...</th>\n",
       "      <td>...</td>\n",
       "      <td>...</td>\n",
       "    </tr>\n",
       "    <tr>\n",
       "      <th>25475</th>\n",
       "      <td>77092.5700</td>\n",
       "      <td>0.008260</td>\n",
       "    </tr>\n",
       "    <tr>\n",
       "      <th>25476</th>\n",
       "      <td>279174.7900</td>\n",
       "      <td>0.641334</td>\n",
       "    </tr>\n",
       "    <tr>\n",
       "      <th>25477</th>\n",
       "      <td>146298.8500</td>\n",
       "      <td>0.225066</td>\n",
       "    </tr>\n",
       "    <tr>\n",
       "      <th>25478</th>\n",
       "      <td>86154.7700</td>\n",
       "      <td>0.036650</td>\n",
       "    </tr>\n",
       "    <tr>\n",
       "      <th>25479</th>\n",
       "      <td>70876.9100</td>\n",
       "      <td>-0.011212</td>\n",
       "    </tr>\n",
       "  </tbody>\n",
       "</table>\n",
       "<p>25480 rows × 2 columns</p>\n",
       "</div>"
      ],
      "text/plain": [
       "       prevailing_wage  prevailing_wage_min_max\n",
       "0             592.2029                -0.231396\n",
       "1           83425.6500                 0.028100\n",
       "2          122996.8600                 0.152067\n",
       "3           83434.0300                 0.028127\n",
       "4          149907.3900                 0.236371\n",
       "...                ...                      ...\n",
       "25475       77092.5700                 0.008260\n",
       "25476      279174.7900                 0.641334\n",
       "25477      146298.8500                 0.225066\n",
       "25478       86154.7700                 0.036650\n",
       "25479       70876.9100                -0.011212\n",
       "\n",
       "[25480 rows x 2 columns]"
      ]
     },
     "execution_count": 25,
     "metadata": {},
     "output_type": "execute_result"
    }
   ],
   "source": [
    "x_max=visa_df['prevailing_wage'].max()\n",
    "x_min=visa_df['prevailing_wage'].min()\n",
    "Nr=visa_df['prevailing_wage_min_max']=Nr/(x_max-x_min)\n",
    "visa_df[['prevailing_wage','prevailing_wage_min_max']]"
   ]
  },
  {
   "cell_type": "markdown",
   "id": "bcbe3a80-c657-4793-95f6-3da826e4af26",
   "metadata": {},
   "source": [
    "**package name:MinMaxscalar**"
   ]
  },
  {
   "cell_type": "code",
   "execution_count": null,
   "id": "fa729fe9-8d63-450f-be4a-072cd65cf166",
   "metadata": {},
   "outputs": [],
   "source": [
    "from sklearn.preprocessing import MinMaxscaler\n",
    "mms=MinMaxscaler()\n",
    "visa_df['prevailing_wage_min_max_ss']=mms.fit_transform(visa_df[['prevailing_wage"
   ]
  }
 ],
 "metadata": {
  "kernelspec": {
   "display_name": "Python 3 (ipykernel)",
   "language": "python",
   "name": "python3"
  },
  "language_info": {
   "codemirror_mode": {
    "name": "ipython",
    "version": 3
   },
   "file_extension": ".py",
   "mimetype": "text/x-python",
   "name": "python",
   "nbconvert_exporter": "python",
   "pygments_lexer": "ipython3",
   "version": "3.11.7"
  }
 },
 "nbformat": 4,
 "nbformat_minor": 5
}
